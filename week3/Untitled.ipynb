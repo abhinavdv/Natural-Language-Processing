{
 "cells": [
  {
   "cell_type": "code",
   "execution_count": 1,
   "metadata": {},
   "outputs": [
    {
     "name": "stderr",
     "output_type": "stream",
     "text": [
      "[nltk_data] Downloading package punkt to C:\\Users\\Abhinav\n",
      "[nltk_data]     Duvvuri\\AppData\\Roaming\\nltk_data...\n",
      "[nltk_data]   Package punkt is already up-to-date!\n",
      "[nltk_data] Downloading package gutenberg to C:\\Users\\Abhinav\n",
      "[nltk_data]     Duvvuri\\AppData\\Roaming\\nltk_data...\n",
      "[nltk_data]   Package gutenberg is already up-to-date!\n"
     ]
    },
    {
     "data": {
      "text/plain": [
       "True"
      ]
     },
     "execution_count": 1,
     "metadata": {},
     "output_type": "execute_result"
    }
   ],
   "source": [
    "import nltk\n",
    "nltk.download('punkt')\n",
    "nltk.download('gutenberg')"
   ]
  },
  {
   "cell_type": "code",
   "execution_count": 4,
   "metadata": {},
   "outputs": [],
   "source": [
    "from nltk.tokenize import sent_tokenize, PunktSentenceTokenizer\n",
    "from nltk.corpus import gutenberg"
   ]
  },
  {
   "cell_type": "code",
   "execution_count": 5,
   "metadata": {},
   "outputs": [],
   "source": [
    "sample = gutenberg.raw(\"bible-kjv.txt\")  #extract all paragraphs avaiable in the file"
   ]
  },
  {
   "cell_type": "code",
   "execution_count": 8,
   "metadata": {},
   "outputs": [],
   "source": [
    "tok = sent_tokenize(sample)  #sentence tokenize \n"
   ]
  },
  {
   "cell_type": "code",
   "execution_count": 9,
   "metadata": {},
   "outputs": [
    {
     "name": "stdout",
     "output_type": "stream",
     "text": [
      "[The King James Bible]\n",
      "\n",
      "The Old Testament of the King James Bible\n",
      "\n",
      "The First Book of Moses:  Called Genesis\n",
      "\n",
      "\n",
      "1:1 In the beginning God created the heaven and the earth.\n",
      "1:2 And the earth was without form, and void; and darkness was upon\n",
      "the face of the deep.\n",
      "And the Spirit of God moved upon the face of the\n",
      "waters.\n",
      "1:3 And God said, Let there be light: and there was light.\n",
      "1:4 And God saw the light, that it was good: and God divided the light\n",
      "from the darkness.\n"
     ]
    }
   ],
   "source": [
    "for i in range(5):\n",
    "    print(tok[i])"
   ]
  },
  {
   "cell_type": "code",
   "execution_count": 10,
   "metadata": {},
   "outputs": [
    {
     "name": "stdout",
     "output_type": "stream",
     "text": [
      "['austen-emma.txt', 'austen-persuasion.txt', 'austen-sense.txt', 'bible-kjv.txt', 'blake-poems.txt', 'bryant-stories.txt', 'burgess-busterbrown.txt', 'carroll-alice.txt', 'chesterton-ball.txt', 'chesterton-brown.txt', 'chesterton-thursday.txt', 'edgeworth-parents.txt', 'melville-moby_dick.txt', 'milton-paradise.txt', 'shakespeare-caesar.txt', 'shakespeare-hamlet.txt', 'shakespeare-macbeth.txt', 'whitman-leaves.txt']\n"
     ]
    }
   ],
   "source": [
    "print(gutenberg.fileids())"
   ]
  },
  {
   "cell_type": "code",
   "execution_count": 11,
   "metadata": {},
   "outputs": [],
   "source": [
    " all_words = gutenberg.words(\"milton-paradise.txt\")"
   ]
  },
  {
   "cell_type": "code",
   "execution_count": 12,
   "metadata": {},
   "outputs": [
    {
     "name": "stdout",
     "output_type": "stream",
     "text": [
      "['the', 'World', ',', 'and', 'all', 'our', 'woe', ',', 'With', 'loss', 'of', 'Eden', ',', 'till', 'one', 'greater', 'Man', 'Restore', 'us', ',']\n"
     ]
    }
   ],
   "source": [
    "print(all_words[30:50])"
   ]
  },
  {
   "cell_type": "code",
   "execution_count": 15,
   "metadata": {},
   "outputs": [],
   "source": [
    "sents = gutenberg.sents(\"shakespeare-macbeth.txt\")"
   ]
  },
  {
   "cell_type": "code",
   "execution_count": 17,
   "metadata": {},
   "outputs": [
    {
     "name": "stdout",
     "output_type": "stream",
     "text": [
      "Data for file:  austen-emma.txt\n",
      "Number of words:  192427\n",
      "Number of sentence:  7752\n",
      "\n",
      "\n",
      "Data for file:  austen-persuasion.txt\n",
      "Number of words:  98171\n",
      "Number of sentence:  3747\n",
      "\n",
      "\n",
      "Data for file:  austen-sense.txt\n",
      "Number of words:  141576\n",
      "Number of sentence:  4999\n",
      "\n",
      "\n",
      "Data for file:  bible-kjv.txt\n",
      "Number of words:  1010654\n",
      "Number of sentence:  30103\n",
      "\n",
      "\n",
      "Data for file:  blake-poems.txt\n",
      "Number of words:  8354\n",
      "Number of sentence:  438\n",
      "\n",
      "\n",
      "Data for file:  bryant-stories.txt\n",
      "Number of words:  55563\n",
      "Number of sentence:  2863\n",
      "\n",
      "\n",
      "Data for file:  burgess-busterbrown.txt\n",
      "Number of words:  18963\n",
      "Number of sentence:  1054\n",
      "\n",
      "\n",
      "Data for file:  carroll-alice.txt\n",
      "Number of words:  34110\n",
      "Number of sentence:  1703\n",
      "\n",
      "\n",
      "Data for file:  chesterton-ball.txt\n",
      "Number of words:  96996\n",
      "Number of sentence:  4779\n",
      "\n",
      "\n",
      "Data for file:  chesterton-brown.txt\n",
      "Number of words:  86063\n",
      "Number of sentence:  3806\n",
      "\n",
      "\n",
      "Data for file:  chesterton-thursday.txt\n",
      "Number of words:  69213\n",
      "Number of sentence:  3742\n",
      "\n",
      "\n",
      "Data for file:  edgeworth-parents.txt\n",
      "Number of words:  210663\n",
      "Number of sentence:  10230\n",
      "\n",
      "\n",
      "Data for file:  melville-moby_dick.txt\n",
      "Number of words:  260819\n",
      "Number of sentence:  10059\n",
      "\n",
      "\n",
      "Data for file:  milton-paradise.txt\n",
      "Number of words:  96825\n",
      "Number of sentence:  1851\n",
      "\n",
      "\n",
      "Data for file:  shakespeare-caesar.txt\n",
      "Number of words:  25833\n",
      "Number of sentence:  2163\n",
      "\n",
      "\n",
      "Data for file:  shakespeare-hamlet.txt\n",
      "Number of words:  37360\n",
      "Number of sentence:  3106\n",
      "\n",
      "\n",
      "Data for file:  shakespeare-macbeth.txt\n",
      "Number of words:  23140\n",
      "Number of sentence:  1907\n",
      "\n",
      "\n",
      "Data for file:  whitman-leaves.txt\n",
      "Number of words:  154883\n",
      "Number of sentence:  4250\n",
      "\n",
      "\n"
     ]
    }
   ],
   "source": [
    "for fileid in gutenberg.fileids():\n",
    "    num_words = len(gutenberg.words(fileid))\n",
    "    num_sents = len(gutenberg.sents(fileid))\n",
    "    print(\"Data for file: \",fileid)\n",
    "    print(\"Number of words: \",num_words)\n",
    "    print(\"Number of sentence: \",num_sents, end = \"\\n\\n\\n\")"
   ]
  },
  {
   "cell_type": "code",
   "execution_count": 18,
   "metadata": {},
   "outputs": [
    {
     "name": "stderr",
     "output_type": "stream",
     "text": [
      "[nltk_data] Downloading package brown to C:\\Users\\Abhinav\n",
      "[nltk_data]     Duvvuri\\AppData\\Roaming\\nltk_data...\n",
      "[nltk_data]   Unzipping corpora\\brown.zip.\n"
     ]
    },
    {
     "data": {
      "text/plain": [
       "True"
      ]
     },
     "execution_count": 18,
     "metadata": {},
     "output_type": "execute_result"
    }
   ],
   "source": [
    "nltk.download('brown')"
   ]
  },
  {
   "cell_type": "code",
   "execution_count": 19,
   "metadata": {},
   "outputs": [],
   "source": [
    "sents = nltk.corpus.brown.tagged_words()"
   ]
  },
  {
   "cell_type": "code",
   "execution_count": 23,
   "metadata": {},
   "outputs": [
    {
     "name": "stdout",
     "output_type": "stream",
     "text": [
      "[('The', 'AT'), ('Fulton', 'NP-TL'), ('County', 'NN-TL'), ('Grand', 'JJ-TL'), ('Jury', 'NN-TL'), ('said', 'VBD'), ('Friday', 'NR'), ('an', 'AT'), ('investigation', 'NN'), ('of', 'IN'), (\"Atlanta's\", 'NP$'), ('recent', 'JJ'), ('primary', 'NN'), ('election', 'NN'), ('produced', 'VBD'), ('``', '``'), ('no', 'AT'), ('evidence', 'NN'), (\"''\", \"''\"), ('that', 'CS'), ('any', 'DTI'), ('irregularities', 'NNS'), ('took', 'VBD'), ('place', 'NN'), ('.', '.')]\n"
     ]
    }
   ],
   "source": [
    "print(sents[:25])"
   ]
  },
  {
   "cell_type": "code",
   "execution_count": 27,
   "metadata": {},
   "outputs": [
    {
     "name": "stdout",
     "output_type": "stream",
     "text": [
      "<FreqDist with 18192 samples and 946812 outcomes>\n"
     ]
    }
   ],
   "source": [
    "from nltk.probability import FreqDist\n",
    "words = nltk.tokenize.word_tokenize(sample)\n",
    "fdist = FreqDist(words)\n",
    "print(fdist)"
   ]
  },
  {
   "cell_type": "code",
   "execution_count": 29,
   "metadata": {},
   "outputs": [
    {
     "name": "stdout",
     "output_type": "stream",
     "text": [
      "[(',', 70573), ('the', 62103), ('and', 38847), ('of', 34480), ('.', 26202), ('to', 13396), ('And', 12846), (':', 12706), ('that', 12576), ('in', 12331), (';', 10139), ('shall', 9760), ('he', 9665), ('unto', 8940), ('I', 8854), ('his', 8385), ('a', 7943), ('for', 7228), ('they', 6970), ('be', 6877)]\n"
     ]
    }
   ],
   "source": [
    "print(fdist.most_common(20))"
   ]
  },
  {
   "cell_type": "code",
   "execution_count": null,
   "metadata": {},
   "outputs": [],
   "source": [
    "help(plot)"
   ]
  },
  {
   "cell_type": "code",
   "execution_count": null,
   "metadata": {},
   "outputs": [],
   "source": []
  }
 ],
 "metadata": {
  "kernelspec": {
   "display_name": "Python 3",
   "language": "python",
   "name": "python3"
  },
  "language_info": {
   "codemirror_mode": {
    "name": "ipython",
    "version": 3
   },
   "file_extension": ".py",
   "mimetype": "text/x-python",
   "name": "python",
   "nbconvert_exporter": "python",
   "pygments_lexer": "ipython3",
   "version": "3.8.3"
  }
 },
 "nbformat": 4,
 "nbformat_minor": 4
}
